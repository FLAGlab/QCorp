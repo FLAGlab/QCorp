{
 "cells": [
  {
   "cell_type": "code",
   "execution_count": 1,
   "metadata": {
    "collapsed": true
   },
   "outputs": [],
   "source": [
    "%load_ext autoreload\n",
    "%autoreload 2"
   ]
  },
  {
   "cell_type": "code",
   "execution_count": 59,
   "outputs": [],
   "source": [
    "from environment import Environment\n",
    "from qlearner import Qlearner"
   ],
   "metadata": {
    "collapsed": false
   }
  },
  {
   "cell_type": "markdown",
   "source": [
    "# Laberinto de cuartos"
   ],
   "metadata": {
    "collapsed": false
   }
  },
  {
   "cell_type": "code",
   "execution_count": 104,
   "outputs": [
    {
     "name": "stdout",
     "output_type": "stream",
     "text": [
      "     0    1    2    3    4    5    6    7    8    9   10 \n",
      "  .------------------------------------------------------.\n",
      "0  |    |    |  10|    |    |   *|    |    |    |    |    |\n",
      "   |----|----|----|----|----|----|----|----|----|----|----|\n",
      "1  |    |    |    |    |    |   *|    |    |    |    |    |\n",
      "   |----|----|----|----|----|----|----|----|----|----|----|\n",
      "2  |    |    |    |    |    |    |    |    |    |    |    |\n",
      "   |----|----|----|----|----|----|----|----|----|----|----|\n",
      "3  |    |    |    |    |    |   *|    |    |    |    |    |\n",
      "   |----|----|----|----|----|----|----|----|----|----|----|\n",
      "4  |    |    |    |    |    |   *|    |    |    |    |    |\n",
      "   |----|----|----|----|----|----|----|----|----|----|----|\n",
      "5  |   *|   *|    |   *|   *|   *|   *|   *|    |   *|   *|\n",
      "   |----|----|----|----|----|----|----|----|----|----|----|\n",
      "6  |    |    |    |    |    |   *|    |    |    |    |    |\n",
      "   |----|----|----|----|----|----|----|----|----|----|----|\n",
      "7  |    |    |    |    |    |   *|    |    |    |    |    |\n",
      "   |----|----|----|----|----|----|----|----|----|----|----|\n",
      "8  |    |    |    |    |    |    |    |    |    |    |    |\n",
      "   |----|----|----|----|----|----|----|----|----|----|----|\n",
      "9  |    |    |    |    |    |   *|    |  ME|    |    |    |\n",
      "   |----|----|----|----|----|----|----|----|----|----|----|\n",
      "10 |    |    |    |    |    |   *|    |    |    |    |    |\n",
      "   |----|----|----|----|----|----|----|----|----|----|----|\n"
     ]
    }
   ],
   "source": [
    "laberinto = Environment((11,11))\n",
    "traps = []\n",
    "for i in range(0,11):traps.append((5,i));traps.append((i,5))\n",
    "traps = [(i,j) for i,j in traps if (j != 2 and j != 8) and (i != 2 and i != 8)]\n",
    "laberinto.set_traps(traps)\n",
    "laberinto.current_state = (9,7)\n",
    "laberinto.set_rewards([(0,2,10)])\n",
    "laberinto.set_terminals([(0,2)])\n",
    "laberinto.show(4)"
   ],
   "metadata": {
    "collapsed": false
   }
  },
  {
   "cell_type": "code",
   "execution_count": 121,
   "outputs": [
    {
     "name": "stdout",
     "output_type": "stream",
     "text": [
      "      0     1     2     3     4     5     6     7     8     9    10 \n",
      "  .-----------------------------------------------------------------.\n",
      "0  |    D|  <==|   10|  <==|  <==|    *|    D|    D|  <==|    D|  <==|\n",
      "   |-----|-----|-----|-----|-----|-----|-----|-----|-----|-----|-----|\n",
      "1  |  ==>|  ==>|    U|    U|  <==|    *|    D|  <==|  <==|    D|  <==|\n",
      "   |-----|-----|-----|-----|-----|-----|-----|-----|-----|-----|-----|\n",
      "2  |    D|  ==>|    U|    U|    U|  <==|  <==|  <==|  <==|  <==|    D|\n",
      "   |-----|-----|-----|-----|-----|-----|-----|-----|-----|-----|-----|\n",
      "3  |  ==>|    U|    U|    U|  <==|    *|    U|  <==|  <==|  <==|  <==|\n",
      "   |-----|-----|-----|-----|-----|-----|-----|-----|-----|-----|-----|\n",
      "4  |    U|    U|  <==|  ==>|    U|    *|    U|    U|  <==|    U|  <==|\n",
      "   |-----|-----|-----|-----|-----|-----|-----|-----|-----|-----|-----|\n",
      "5  |    *|    *|    U|    *|    *|    *|    *|    *|    U|    *|    *|\n",
      "   |-----|-----|-----|-----|-----|-----|-----|-----|-----|-----|-----|\n",
      "6  |  ==>|  ==>|  <==|  ==>|    D|    *|  ==>|  ==>|    U|  <==|  <==|\n",
      "   |-----|-----|-----|-----|-----|-----|-----|-----|-----|-----|-----|\n",
      "7  |    U|  ==>|    U|  <==|    U|    *|    U|    U|    U|  <==|  <==|\n",
      "   |-----|-----|-----|-----|-----|-----|-----|-----|-----|-----|-----|\n",
      "8  |  ==>|  ==>|    D|    U|  ==>|  ==>|  ==>|    U|    U|    U|  <==|\n",
      "   |-----|-----|-----|-----|-----|-----|-----|-----|-----|-----|-----|\n",
      "9  |    U|  <==|    U|    U|  <==|    *|  ==>|    U|    U|    U|    D|\n",
      "   |-----|-----|-----|-----|-----|-----|-----|-----|-----|-----|-----|\n",
      "10 |  ==>|  <==|  <==|    U|    U|    *|    U|  ==>|    U|    U|  <==|\n",
      "   |-----|-----|-----|-----|-----|-----|-----|-----|-----|-----|-----|\n"
     ]
    }
   ],
   "source": [
    "qlearner = Qlearner(laberinto, (9,7), gamma=0.9, epsilon=0.1)\n",
    "qlearner.run(10_000)\n",
    "qlearner.show(actions=True, spacing=5)"
   ],
   "metadata": {
    "collapsed": false
   }
  },
  {
   "cell_type": "markdown",
   "source": [
    "# Taxi\n",
    "\n",
    "Como vimos en clase, fijamos el pasajero y el punto de llegada.\n",
    "- Para este ejemplo, el destino es \"G\" y el punto de recogida es \"B\"\n"
   ],
   "metadata": {
    "collapsed": false
   }
  },
  {
   "cell_type": "code",
   "execution_count": 172,
   "outputs": [
    {
     "name": "stdout",
     "output_type": "stream",
     "text": [
      "     0    1    2    3    4    5    6    7 \n",
      "  .---------------------------------------.\n",
      "0 |    |    |   *|    |    |    |    |   5|\n",
      "  |----|----|----|----|----|----|----|----|\n",
      "1 |    |    |   *|    |    |    |  ME|    |\n",
      "  |----|----|----|----|----|----|----|----|\n",
      "2 |    |    |    |    |    |    |    |    |\n",
      "  |----|----|----|----|----|----|----|----|\n",
      "3 |    |   *|    |    |   *|    |    |    |\n",
      "  |----|----|----|----|----|----|----|----|\n",
      "4 |    |   *|    |    |   *|   1|    |    |\n",
      "  |----|----|----|----|----|----|----|----|\n"
     ]
    }
   ],
   "source": [
    "taxi_env = Environment((5,8))\n",
    "traps = [(0,2), (1,2), (3,1), (4,1), (3,4), (4,4)]\n",
    "taxi_env.set_traps(traps)\n",
    "taxi_env.current_state = (1,6)\n",
    "taxi_env.set_rewards([(4,5,1), (0,7, 5)])\n",
    "taxi_env.set_terminals([(0,7)])\n",
    "taxi_env.show(4)"
   ],
   "metadata": {
    "collapsed": false
   }
  },
  {
   "cell_type": "code",
   "execution_count": 184,
   "outputs": [
    {
     "name": "stdout",
     "output_type": "stream",
     "text": [
      "      0     1     2     3     4     5     6     7 \n",
      "  .-----------------------------------------------.\n",
      "0 |  ==>|    D|    *|    D|  <==|    D|  ==>|    5|\n",
      "  |-----|-----|-----|-----|-----|-----|-----|-----|\n",
      "1 |  ==>|    D|    *|    U|    U|  ==>|    U|    D|\n",
      "  |-----|-----|-----|-----|-----|-----|-----|-----|\n",
      "2 |  ==>|  <==|  <==|  ==>|  ==>|  ==>|  ==>|    U|\n",
      "  |-----|-----|-----|-----|-----|-----|-----|-----|\n",
      "3 |    U|    *|    U|    D|    *|    D|  <==|    U|\n",
      "  |-----|-----|-----|-----|-----|-----|-----|-----|\n",
      "4 |    U|    *|    U|  <==|    *|    U|    U|    U|\n",
      "  |-----|-----|-----|-----|-----|-----|-----|-----|\n"
     ]
    }
   ],
   "source": [
    "qlearner = Qlearner(taxi_env, (1,6), gamma=1, epsilon=0.1)\n",
    "qlearner.run(10_000)\n",
    "qlearner.show(actions=True, spacing=5)"
   ],
   "metadata": {
    "collapsed": false
   }
  },
  {
   "cell_type": "code",
   "execution_count": null,
   "outputs": [],
   "source": [],
   "metadata": {
    "collapsed": false
   }
  }
 ],
 "metadata": {
  "kernelspec": {
   "display_name": "Python 3",
   "language": "python",
   "name": "python3"
  },
  "language_info": {
   "codemirror_mode": {
    "name": "ipython",
    "version": 2
   },
   "file_extension": ".py",
   "mimetype": "text/x-python",
   "name": "python",
   "nbconvert_exporter": "python",
   "pygments_lexer": "ipython2",
   "version": "2.7.6"
  }
 },
 "nbformat": 4,
 "nbformat_minor": 0
}
